{
 "cells": [
  {
   "cell_type": "markdown",
   "id": "3e9d3c14",
   "metadata": {},
   "source": [
    "# UMLS and Belgian French SnomedCT to concept table"
   ]
  },
  {
   "cell_type": "markdown",
   "id": "edfab675",
   "metadata": {},
   "source": [
    "## Introduction"
   ]
  },
  {
   "cell_type": "markdown",
   "id": "9bc16a63",
   "metadata": {},
   "source": [
    "This notebook take concepts from UMLS and the Belgian SnomedCT extension to generate a French oriented concept table to be used in biomedical entity linking tasks on French medical corpus.\n",
    "\n",
    "It outputs:\n",
    "- A csv file that can be used with [MedCAT](https://medcat.readthedocs.io).\n",
    "- A [BRAT Normalization](https://brat.nlplab.org/normalization.html) DB file.\n",
    "- A csv file grouped by CUI with terms separated by SEP tokens\n",
    "- A dataset of synonym pairs designed to be used to pretrain [sapBERT](https://aclanthology.org/2021.acl-short.72/).\n",
    "\n",
    "All outputs include **french** and **english** terms from UMLS + **french** terms from the Belgian SnomedCT + ATC and Belgian drug names. The sapBERT output also include more terms and other latin languages (**Spanish**, **Portuguese** and **Italian**)\n",
    "\n",
    "This notebook owns a lot to this repository ( https://github.com/umcu/dutch-medical-concepts ) from the team of the UMC Utrecht to generate concepts tables for the Dutch language."
   ]
  },
  {
   "cell_type": "markdown",
   "id": "b585a268",
   "metadata": {},
   "source": [
    "## Requirements"
   ]
  },
  {
   "cell_type": "markdown",
   "id": "85f6367f",
   "metadata": {},
   "source": [
    "The python dependency are pandas, beautifulsoup4 and tqdm, and can be installed with `pip install pandas beautifulsoup4 tqdm`.\n",
    "\n",
    "The notebook also requires as inputs:\n",
    "- [UMLS](https://www.nlm.nih.gov/research/umls/index.html) (MRCONSO.RRF and MRSTY.RRF), either from full subset or a custom subset generated using MetamorphoSys\n",
    "- Belgian extension of the [Snomed CT ontology](https://mlds.ihtsdotools.org).\n",
    "- SAM (Source Authentique des Médicaments) [full export (Samv2 v5)](https://www.vas.ehealth.fgov.be/websamcivics/samcivics/download/samv2.html) for Belgian drug names"
   ]
  },
  {
   "cell_type": "markdown",
   "id": "a288421a",
   "metadata": {},
   "source": [
    "## Imports"
   ]
  },
  {
   "cell_type": "code",
   "execution_count": null,
   "id": "650566ec",
   "metadata": {},
   "outputs": [],
   "source": [
    "import pandas as pd\n",
    "from bs4 import BeautifulSoup\n",
    "from tqdm.notebook import tqdm\n",
    "import re\n",
    "import itertools\n",
    "import random"
   ]
  },
  {
   "cell_type": "markdown",
   "id": "4d0cc55e",
   "metadata": {},
   "source": [
    "## Paths"
   ]
  },
  {
   "cell_type": "markdown",
   "id": "74d60dbd",
   "metadata": {},
   "source": [
    "### Inputs"
   ]
  },
  {
   "cell_type": "code",
   "execution_count": null,
   "id": "3c3aadf0",
   "metadata": {},
   "outputs": [],
   "source": [
    "# UMLS\n",
    "mrconso_path = \"input_files/UMLS/2022AB/META/MRCONSO.RRF\"\n",
    "mrsty_path = \"input_files/UMLS/2022AB/META/MRSTY.RRF\"\n",
    "\n",
    "# Snomed CT\n",
    "snomedct_be_fr_path = \"input_files/SnomedCT_ManagedServiceBE_PRODUCTION_BE1000172_20221115T120000Z/Snapshot/Terminology/sct2_Description_Snapshot-fr_BE1000172_20221115.txt\"\n",
    "\n",
    "# SAM\n",
    "sam_amp_file = \"input_files/sam/AMP-1674307274162.xml\"\n",
    "\n",
    "## Languages to include for SAP pairs. Include English and latin languages.\n",
    "sap_lang = [\n",
    "    \"ENG\",\n",
    "    \"SPA\",\n",
    "    \"FRE\",\n",
    "    \"POR\",\n",
    "    \"ITA\",\n",
    "]"
   ]
  },
  {
   "cell_type": "markdown",
   "id": "f89bdf8e",
   "metadata": {},
   "source": [
    "### Outputs"
   ]
  },
  {
   "cell_type": "code",
   "execution_count": null,
   "id": "c88fccbc",
   "metadata": {},
   "outputs": [],
   "source": [
    "medcat_csv_path = \"output_files/custom_umls_fr_en_medcat.csv\"\n",
    "brat_output_path = \"output_files/custom_umls_fr_en_brat.txt\"\n",
    "grouped_output_path = \"output_files/custom_umls_fr_en_grouped.txt\"\n",
    "sap_output_path = \"output_files/custom_umls_sap.txt\""
   ]
  },
  {
   "cell_type": "markdown",
   "id": "d3d960e9",
   "metadata": {},
   "source": [
    "# UMLS"
   ]
  },
  {
   "cell_type": "markdown",
   "id": "9e896601",
   "metadata": {},
   "source": [
    "## Define the files structure (for reference) and columns names"
   ]
  },
  {
   "cell_type": "code",
   "execution_count": null,
   "id": "8c794f0f",
   "metadata": {},
   "outputs": [],
   "source": [
    "mrconso_structure = {\n",
    "    \"CUI\": \"Unique identifier for concept\",\n",
    "    \"LAT\": \"Language of term\",\n",
    "    \"TS\": \"Term status\",\n",
    "    \"LUI\": \"Unique identifier for term\",\n",
    "    \"STT\": \"String type\",\n",
    "    \"SUI\": \"Unique identifier for string\",\n",
    "    \"ISPREF\": \"Atom status - preferred (Y) or not (N) for this string within this concept\",\n",
    "    \"AUI\": \"Unique identifier for atom - variable length field, 8 or 9 characters\",\n",
    "    \"SAUI\": \"Source asserted atom identifier [optional]\",\n",
    "    \"SCUI\": \"Source asserted concept identifier [optional]\",\n",
    "    \"SDUI\": \"Source asserted descriptor identifier [optional]\",\n",
    "    \"SAB\": \"Abbreviated source name (SAB). Maximum field length is 20 alphanumeric characters.\",\n",
    "    \"TTY\": \"Abbreviation for term type in source vocabulary\",\n",
    "    \"CODE\": '''Most useful source asserted identifier (if the source vocabulary has more than one identifier), \n",
    "    or a Metathesaurus-generated source entry identifier (if the source vocabulary has none)''',\n",
    "    \"STR\": \"String\",\n",
    "    \"SRL\": \"Source restriction level\",\n",
    "    \"SUPPRESS\": '''Suppressible flag. \n",
    "    Values = O (obsolete content), \n",
    "    E (Non-obsolete content marked suppressible by an editor), \n",
    "    Y (Non-obsolete content deemed suppressible during inversion), \n",
    "    or N (None of the above)''',\n",
    "    \"CVF\": \"Content View Flag. Bit field used to flag rows included in Content View.\",\n",
    "}\n",
    "mrconso_columns_names = [key.lower() for key in mrconso_structure.keys()]"
   ]
  },
  {
   "cell_type": "code",
   "execution_count": null,
   "id": "4cb3846a",
   "metadata": {},
   "outputs": [],
   "source": [
    "mrsty_structure = {\n",
    "\"CUI\": \"Unique identifier of concept\",\n",
    "\"TUI\": \"Unique identifier of Semantic Type\",\n",
    "\"STN\": \"Semantic Type tree number\",\n",
    "\"STY\": \"Semantic Type. The valid values are defined in the Semantic Network.\",\n",
    "\"ATUI\": \"Unique identifier for attribute\",\n",
    "\"CVF\": \"Content View Flag. Bit field used to flag rows included in Content View.\",\n",
    "}\n",
    "mrsty_columns_names = [key.lower() for key in mrsty_structure.keys()]"
   ]
  },
  {
   "cell_type": "markdown",
   "id": "30d6e169",
   "metadata": {},
   "source": [
    "## Load from files"
   ]
  },
  {
   "cell_type": "code",
   "execution_count": null,
   "id": "fde03aac",
   "metadata": {
    "scrolled": true
   },
   "outputs": [],
   "source": [
    "umls_full_df = pd.read_csv(mrconso_path, \n",
    "                      sep=\"|\", \n",
    "                      header=None, \n",
    "                      names=mrconso_columns_names, \n",
    "                      index_col=False, \n",
    "                      dtype=str)"
   ]
  },
  {
   "cell_type": "code",
   "execution_count": null,
   "id": "021351d4",
   "metadata": {},
   "outputs": [],
   "source": []
  },
  {
   "cell_type": "code",
   "execution_count": null,
   "id": "33d9e461",
   "metadata": {},
   "outputs": [],
   "source": [
    "tui_df = pd.read_csv(mrsty_path, \n",
    "                     sep=\"|\", \n",
    "                     header=None, \n",
    "                     names=mrsty_columns_names, \n",
    "                     index_col=False)"
   ]
  },
  {
   "cell_type": "markdown",
   "id": "d4fb355a",
   "metadata": {},
   "source": [
    "## Filter"
   ]
  },
  {
   "cell_type": "code",
   "execution_count": null,
   "id": "5b637946",
   "metadata": {},
   "outputs": [],
   "source": [
    "# Selected tty list\n",
    "tty_selection = ['PT', # Designated preferred name\n",
    "                 'LLT', # entry_term\n",
    "                 'MH', # preferred\n",
    "                 'SY', # synonym\n",
    "                ]\n",
    "\n",
    "# Selected sab list\n",
    "selected_sab = ['MSHFRE',\n",
    "                'SNOMEDCT_US',\n",
    "                'DRUGBANK',\n",
    "                'RXNORM',\n",
    "                'MTH',\n",
    "                'ICPC2ICD10ENG',\n",
    "                'ICD10',\n",
    "                'HPO',\n",
    "                'MDRFRE',\n",
    "                'ICPCFRE',\n",
    "                'WHOFRE',\n",
    "                'ATC',\n",
    "                'MTHMSTFRE',\n",
    "               ]\n",
    "\n",
    "# Filter by tty\n",
    "umls_df = umls_full_df.loc[umls_full_df.tty.isin(tty_selection)]\n",
    "\n",
    "# Filter by sab\n",
    "filtered_umls_df = umls_df.loc[umls_df.sab.isin(selected_sab)]\n",
    "\n",
    "# Separate French concepts\n",
    "#french_umls_df = umls_df[umls_df.lat == \"FRE\"]"
   ]
  },
  {
   "cell_type": "markdown",
   "id": "43c45e76",
   "metadata": {},
   "source": [
    "## Define a cui to tui mapping (types for each cui)"
   ]
  },
  {
   "cell_type": "code",
   "execution_count": null,
   "id": "9ba34ef0",
   "metadata": {},
   "outputs": [],
   "source": [
    "#cui_tui_mapping = mrsty_df.groupby('cui')['tui'].apply(list).to_dict()"
   ]
  },
  {
   "cell_type": "code",
   "execution_count": null,
   "id": "66723468",
   "metadata": {},
   "outputs": [],
   "source": [
    "# Define tuis to remove (based on https://github.com/umcu/dutch-medical-concepts)\n",
    "tuis_to_remove = [\n",
    "    \n",
    "    # Concepts & Ideas\n",
    "    'T078', # Idea or Concept\n",
    "    'T089', # Regulation or Law\n",
    "\n",
    "    # Living beings\n",
    "    'T011', # Amphibian\n",
    "    'T008', # Animal\n",
    "    'T012', # Bird\n",
    "    'T013', # Fish\n",
    "    'T015', # Mammal\n",
    "    'T001', # Organism\n",
    "    'T001', # Plant\n",
    "    'T014', # Reptile\n",
    "    'T010', # Vertebrate\n",
    "    \n",
    "    # Objects\n",
    "    'T168', # Food\n",
    "    \n",
    "    # Organizations\n",
    "    'T093', # Healthcare Related Organization\n",
    "    \n",
    "    # Geographic areas\n",
    "    'T083', #Geographic Aera\n",
    "]"
   ]
  },
  {
   "cell_type": "code",
   "execution_count": null,
   "id": "5c1d43d2",
   "metadata": {},
   "outputs": [],
   "source": [
    "# Get types labels\n",
    "types_df = pd.read_csv(\"umls_types.csv\")\n",
    "\n",
    "# Structure types labels in a dictionary\n",
    "type_dict = {}\n",
    "for row in types_df.iloc:\n",
    "    type_dict[row[\"tui\"]] = row[\"label\"]"
   ]
  },
  {
   "cell_type": "markdown",
   "id": "3daa7b7b",
   "metadata": {},
   "source": [
    "# SnomedCT Belgian extension"
   ]
  },
  {
   "cell_type": "markdown",
   "id": "90955fee",
   "metadata": {},
   "source": [
    "## Load from files"
   ]
  },
  {
   "cell_type": "code",
   "execution_count": null,
   "id": "49a252b6",
   "metadata": {},
   "outputs": [],
   "source": [
    "# Load Belgian Snomed CT file\n",
    "snomedct_be_fr_df = pd.read_csv(snomedct_be_fr_path, sep=\"\\t\")\n",
    "\n",
    "# Keep only active concepts\n",
    "snomedct_be_fr_df = snomedct_be_fr_df[snomedct_be_fr_df[\"active\"] == 1]\n",
    "\n",
    "# Rename tty and scui columns\n",
    "snomedct_be_fr_df.rename({'typeId': 'tty', 'conceptId': 'scui'}, inplace=True, axis=1)\n",
    "\n",
    "# convert to string\n",
    "snomedct_be_fr_df['id'] = snomedct_be_fr_df['id'].astype('string')\n",
    "snomedct_be_fr_df['scui'] = snomedct_be_fr_df['scui'].astype('string')\n",
    "snomedct_be_fr_df['tty'] = snomedct_be_fr_df['tty'].astype('string')\n",
    "\n",
    "# Map to MedCAT's P (Preferred term) & A values\n",
    "snomedct_be_fr_df.tty.replace({'900000000000003001': 'P',\n",
    "                    '900000000000013009': 'A'}, inplace=True)"
   ]
  },
  {
   "cell_type": "markdown",
   "id": "83b479c4",
   "metadata": {},
   "source": [
    "## Generate Snomed CT (scui) to UMLS (cui) mapping"
   ]
  },
  {
   "cell_type": "code",
   "execution_count": null,
   "id": "271bac7d",
   "metadata": {},
   "outputs": [],
   "source": [
    "# Get Snomed CT to UMLS mapping\n",
    "snomed_us = umls_df[umls_df['sab'] == \"SNOMEDCT_US\"]\n",
    "raw_snomed_umls_mapping = snomed_us.groupby('scui')['cui'].apply(list).to_dict()"
   ]
  },
  {
   "cell_type": "code",
   "execution_count": null,
   "id": "1944c07a",
   "metadata": {},
   "outputs": [],
   "source": [
    "# Remove SnomedCT concepts mapping to multiple UMLS CUI\n",
    "snomed_umls_mapping = {}\n",
    "for key, value in raw_snomed_umls_mapping.items():\n",
    "    value = set(value)\n",
    "    # Keep only unambiguous cuis\n",
    "    if len(value) == 1:\n",
    "        snomed_umls_mapping[key] = value.pop()"
   ]
  },
  {
   "cell_type": "code",
   "execution_count": null,
   "id": "9b5934ed",
   "metadata": {},
   "outputs": [],
   "source": [
    "# Map Belgian SnomedCT to UMLS\n",
    "umls_mapped_snomed_be_fr = []\n",
    "for row in tqdm(snomedct_be_fr_df.iloc, total=len(snomedct_be_fr_df), desc=\"Mapping SnomedCT Be to UMLS\"):\n",
    "    if row.scui in snomed_umls_mapping.keys():\n",
    "        cui = snomed_umls_mapping[row.scui]\n",
    "        umls_mapped_snomed_be_fr.append([cui, row.term, 'SNOMEDCT_BE_FR', row.tty])\n",
    "umls_mapped_snomed_be_fr = pd.DataFrame(umls_mapped_snomed_be_fr, columns = ['cui', 'str', 'sab', 'tty'])"
   ]
  },
  {
   "cell_type": "markdown",
   "id": "8aabed0a",
   "metadata": {},
   "source": [
    "# Drug names"
   ]
  },
  {
   "cell_type": "markdown",
   "id": "2c750f37",
   "metadata": {},
   "source": [
    "## Extract ATC and DRUGBANK"
   ]
  },
  {
   "cell_type": "code",
   "execution_count": null,
   "id": "d2c123f9",
   "metadata": {},
   "outputs": [],
   "source": [
    "# Get drugs from UMLS\n",
    "umls_drugs_df = umls_full_df[umls_full_df.sab.isin(['ATC', 'DRUGBANK'])]\n",
    "atc_drugs_df = umls_full_df[umls_full_df.sab.isin(['ATC'])]"
   ]
  },
  {
   "cell_type": "markdown",
   "id": "5ae86031",
   "metadata": {},
   "source": [
    "## Extract data from SAM \n",
    "<font color=\"red\">Warning: loading SAM use around 25Go of ram, can take a few minutes</font>"
   ]
  },
  {
   "cell_type": "code",
   "execution_count": null,
   "id": "812c5d16",
   "metadata": {},
   "outputs": [],
   "source": [
    "# Parse SAM\n",
    "with open(sam_amp_file, 'r') as f:\n",
    "    sam_bf = BeautifulSoup(f, \"xml\")"
   ]
  },
  {
   "cell_type": "code",
   "execution_count": null,
   "id": "0cc6831f",
   "metadata": {},
   "outputs": [],
   "source": [
    "# Find drugs\n",
    "sam_drug_list = sam_bf.find(\"ns4:ExportActualMedicines\").findAll(\"ns4:Amp\", recursive=False)"
   ]
  },
  {
   "cell_type": "code",
   "execution_count": null,
   "id": "460ba297",
   "metadata": {},
   "outputs": [],
   "source": [
    "# Create a dictionary to store names and atc codes\n",
    "sam_atc_dict = {\n",
    "    \"name\": [],\n",
    "    \"atc_code\": []\n",
    "}\n",
    "\n",
    "# Define regex rule to remove doses\n",
    "drug_regex = re.compile(\"^([^\\d]*)\")\n",
    "\n",
    "# Extract name and ATC code for each drug\n",
    "for drug in tqdm(sam_drug_list, desc=\"Extracting names with ATC codes\"):\n",
    "    data_list = drug.findAll(\"ns4:Data\", recursive=False)\n",
    "    ampp_list = drug.findAll(\"ns4:Ampp\", recursive=False)\n",
    "    \n",
    "    code = None\n",
    "    for ampp in ampp_list:\n",
    "        atc = ampp.find(\"ns4:Atc\")\n",
    "        if atc:\n",
    "            if not code:\n",
    "                code = atc['code']\n",
    "                \n",
    "            elif code != atc['code']:\n",
    "                #print(\"Code not equal:\", atc['code'], code)\n",
    "                code = None\n",
    "                break\n",
    "    \n",
    "    if code:\n",
    "        name_list = []\n",
    "        for data in data_list:\n",
    "            if data.Name:\n",
    "                cur_name = drug_regex.search(data.Name.find(\"ns2:Fr\").contents[0]).group(0).split(\"(\")[0].rstrip()\n",
    "                if not name_list or cur_name not in name_list:\n",
    "                    name_list.append(cur_name)\n",
    "\n",
    "        for name in name_list:\n",
    "            sam_atc_dict['name'].append(name)\n",
    "            sam_atc_dict['atc_code'].append(code)\n",
    "\n",
    "# Structure drug's names with ATC codes in a dataframe\n",
    "sam_atc_df = pd.DataFrame(sam_atc_dict).drop_duplicates()"
   ]
  },
  {
   "cell_type": "markdown",
   "id": "ba8264bf",
   "metadata": {},
   "source": [
    "## Create ATC to UMLS mapping"
   ]
  },
  {
   "cell_type": "code",
   "execution_count": null,
   "id": "c4bd15e2",
   "metadata": {},
   "outputs": [],
   "source": [
    "# Store UMLS CUI as string in the mapping and remove duplicates if any\n",
    "raw_atc_umls_mapping = atc_drugs_df.groupby('code')['cui'].apply(list).to_dict()\n",
    "\n",
    "atc_umls_mapping = {}\n",
    "for key, value in raw_atc_umls_mapping.items():\n",
    "    value = set(value)\n",
    "    # Keep only unambiguous cuis\n",
    "    if len(value) == 1:\n",
    "        atc_umls_mapping[key] = value.pop().upper()"
   ]
  },
  {
   "cell_type": "markdown",
   "id": "6a4e7138",
   "metadata": {},
   "source": [
    "## Map SAM to UMLS"
   ]
  },
  {
   "cell_type": "code",
   "execution_count": null,
   "id": "90d0e255",
   "metadata": {},
   "outputs": [],
   "source": [
    "# Map SAM AMP to UMLS\n",
    "umls_mapped_sam = []\n",
    "for row in tqdm(sam_atc_df.iloc, total=len(sam_atc_df), desc=\"Mapping SAM to UMLS\"):\n",
    "    if row.atc_code.upper() in atc_umls_mapping.keys():\n",
    "        cui = atc_umls_mapping[row.atc_code]\n",
    "        umls_mapped_sam.append([cui, row['name'], 'SAM', 'A'])\n",
    "umls_mapped_sam = pd.DataFrame(umls_mapped_sam, columns = ['cui', 'str', 'sab', 'tty'])"
   ]
  },
  {
   "cell_type": "markdown",
   "id": "9ebbf449",
   "metadata": {},
   "source": [
    "## Merge ATC, Drugbank and SAM"
   ]
  },
  {
   "cell_type": "code",
   "execution_count": null,
   "id": "dcd29344",
   "metadata": {},
   "outputs": [],
   "source": [
    "all_drugs_df = pd.concat([umls_drugs_df[['cui', 'str', 'sab', 'tty']], umls_mapped_sam])\n",
    "\n",
    "# Drop duplicates\n",
    "all_drugs_df = all_drugs_df.drop_duplicates()"
   ]
  },
  {
   "cell_type": "markdown",
   "id": "52d015e5",
   "metadata": {},
   "source": [
    "# MedCAT output"
   ]
  },
  {
   "cell_type": "markdown",
   "id": "faf937f1",
   "metadata": {},
   "source": [
    "## Merge french UMLS terms with french Belgian SnomedCT terms and drugs"
   ]
  },
  {
   "cell_type": "code",
   "execution_count": null,
   "id": "f919ffb2",
   "metadata": {},
   "outputs": [],
   "source": [
    "# Merge umls with mapped Belgian SnomedCT\n",
    "medcat_df = pd.concat([filtered_umls_df[[\"cui\", \"str\", \"sab\", \"tty\"]], umls_mapped_snomed_be_fr, all_drugs_df])\n",
    "\n",
    "# Replace tty for MedCAT\n",
    "medcat_df.tty.replace({'PT': 'P',\n",
    "                       'LLT': 'A',\n",
    "                       'MH': 'A',\n",
    "                       'SY': 'A',\n",
    "                      }, inplace=True)\n",
    "\n",
    "# Convert names to lowercase\n",
    "medcat_df['str'] = medcat_df['str'].apply(lambda name: \" \".join([(part.lower() if part.istitle() else part) for part in str(name).split(' ')]))\n",
    "medcat_df['str'] = medcat_df['str'].apply(lambda name: \"-\".join([(part.lower() if part.istitle() else part) for part in str(name).split('-')]))\n",
    "\n",
    "# Add tui\n",
    "medcat_df = medcat_df.merge(tui_df, how='left', on='cui')[[\"cui\", \"str\", \"tui\", \"sab\", \"tty\"]]\n",
    "\n",
    "# Remove unwanted tuis\n",
    "medcat_df = medcat_df[~medcat_df.tui.isin(tuis_to_remove)]\n",
    "\n",
    "# Drop duplicates\n",
    "medcat_df = medcat_df.drop_duplicates()\n",
    "\n",
    "# Merging tuis\n",
    "medcat_df = medcat_df.groupby(['cui', 'str', 'tty', 'sab'])['tui'].apply('|'.join).reset_index()\n",
    "\n",
    "# Rename columns and sort by cui and name_status\n",
    "medcat_df.rename(columns={'str': 'name', 'tty': 'name_status', 'sab': 'ontologies', 'tui': 'type_ids'}, inplace=True)\n",
    "\n",
    "# Merging ontologies\n",
    "medcat_df = medcat_df.groupby(['cui', 'name', 'type_ids'], as_index=False).agg({'ontologies' : lambda onto: '|'.join(list(set(onto))), 'name_status' : '|'.join}).copy()\n",
    "\n",
    "# Cleaning tty after merging\n",
    "medcat_df.name_status = medcat_df.name_status.apply(lambda name_status: 'P' if 'P' in name_status else 'A' )\n",
    "\n",
    "# Clean indexes\n",
    "medcat_df.sort_values(by=['cui', 'name_status'], ascending=[True, False], inplace=True)\n",
    "medcat_df.reset_index(drop=True,inplace=True)"
   ]
  },
  {
   "cell_type": "code",
   "execution_count": null,
   "id": "a5e4ecab",
   "metadata": {},
   "outputs": [],
   "source": [
    "medcat_df.to_csv(medcat_csv_path, index=None)"
   ]
  },
  {
   "cell_type": "markdown",
   "id": "191bb7ed",
   "metadata": {},
   "source": [
    "# BRAT Normalization output"
   ]
  },
  {
   "cell_type": "code",
   "execution_count": null,
   "id": "f1e3c9ec",
   "metadata": {},
   "outputs": [],
   "source": [
    "# Groups names by cui\n",
    "brat_df = medcat_df.groupby([\"cui\", \"type_ids\"])[\"name\"].apply(list).reset_index()"
   ]
  },
  {
   "cell_type": "code",
   "execution_count": null,
   "id": "a2030aee",
   "metadata": {},
   "outputs": [],
   "source": []
  },
  {
   "cell_type": "code",
   "execution_count": null,
   "id": "d03bc5a4",
   "metadata": {},
   "outputs": [],
   "source": [
    "# Iterate over concepts. Generate one line per concept with all names and types labels\n",
    "lines = []\n",
    "for row in tqdm(brat_df.iloc, total=len(brat_df)):\n",
    "    # Get cui for current line\n",
    "    cur_line = row.cui\n",
    "    \n",
    "    # Add names with BRAT format\n",
    "    for name in row['name']:\n",
    "        cur_line += \"\\tname:Name:\" + name\n",
    "        \n",
    "    # Split types in a list\n",
    "    type_ids = row.type_ids.split(\"|\")\n",
    "    \n",
    "    # Add types labels to the current line\n",
    "    for tui in type_ids:\n",
    "        cur_line += \"\\tattr:Type:\" + tui + \"|\" + type_dict[tui]\n",
    "        \n",
    "    # Add current line to list of all lines\n",
    "    lines.append(cur_line)"
   ]
  },
  {
   "cell_type": "code",
   "execution_count": null,
   "id": "9da29ba2",
   "metadata": {},
   "outputs": [],
   "source": [
    "# Save BRAT normalization formated ontology to file\n",
    "with open(brat_output_path, \"w\") as f:\n",
    "    for line in lines:\n",
    "        f.write(line + \"\\n\")"
   ]
  },
  {
   "cell_type": "markdown",
   "id": "2f7b9096",
   "metadata": {},
   "source": [
    "# CUI grouped CSV"
   ]
  },
  {
   "cell_type": "code",
   "execution_count": null,
   "id": "921eb6c1",
   "metadata": {},
   "outputs": [],
   "source": [
    "grouped_df = brat_df[[\"cui\", \"name\"]].copy()\n",
    "grouped_df.name = grouped_df.name.apply(\"</s>\".join)"
   ]
  },
  {
   "cell_type": "code",
   "execution_count": null,
   "id": "3a4b98b7",
   "metadata": {},
   "outputs": [],
   "source": [
    "grouped_df.to_csv(grouped_output_path, index=None)"
   ]
  },
  {
   "cell_type": "markdown",
   "id": "14c586c3",
   "metadata": {},
   "source": [
    "# sapBERT pairs output"
   ]
  },
  {
   "cell_type": "markdown",
   "id": "b0241df4",
   "metadata": {},
   "source": [
    "## Get english terms refering to same cui as current dataset"
   ]
  },
  {
   "cell_type": "code",
   "execution_count": null,
   "id": "8774367c",
   "metadata": {},
   "outputs": [],
   "source": [
    "# Using the process from sapBERT ( https://github.com/cambridgeltl/sapbert ) to generate pairs in the form\n",
    "# label_id || entity_name_1 || entity_name_2"
   ]
  },
  {
   "cell_type": "code",
   "execution_count": null,
   "id": "71c4e38c",
   "metadata": {},
   "outputs": [],
   "source": [
    "multi_lang_df = umls_df[umls_df[\"lat\"].isin(sap_lang)]"
   ]
  },
  {
   "cell_type": "code",
   "execution_count": null,
   "id": "3077d74f",
   "metadata": {},
   "outputs": [],
   "source": [
    "# Get all UMLS terms for cui in custom ontology\n",
    "english_custom_df = multi_lang_df[multi_lang_df['cui'].isin(medcat_df['cui'].tolist())]\n",
    "english_custom_df = english_custom_df.rename(columns={'str': 'name'})"
   ]
  },
  {
   "cell_type": "code",
   "execution_count": null,
   "id": "25bea3a8",
   "metadata": {},
   "outputs": [],
   "source": [
    "# Merge custom english terms with custom ontology\n",
    "sap_df = pd.concat([medcat_df, english_custom_df])[['cui', 'name']]\n",
    "sap_df = sap_df.drop_duplicates()"
   ]
  },
  {
   "cell_type": "markdown",
   "id": "1ac2ce7e",
   "metadata": {},
   "source": [
    "## Generate positive pairs"
   ]
  },
  {
   "cell_type": "code",
   "execution_count": null,
   "id": "4e132d17",
   "metadata": {},
   "outputs": [],
   "source": [
    "def gen_pairs(input_list):\n",
    "    return list(itertools.combinations(input_list, r=2))"
   ]
  },
  {
   "cell_type": "code",
   "execution_count": null,
   "id": "46f604ff",
   "metadata": {},
   "outputs": [],
   "source": [
    "# Group names as a list for each cui\n",
    "cui_names = sap_df.groupby(['cui'])['name'].apply(list).reset_index()"
   ]
  },
  {
   "cell_type": "code",
   "execution_count": null,
   "id": "cdd47a08",
   "metadata": {
    "scrolled": true
   },
   "outputs": [],
   "source": [
    "df = cui_names['name'].apply(gen_pairs).reset_index()"
   ]
  },
  {
   "cell_type": "code",
   "execution_count": null,
   "id": "5a61033a",
   "metadata": {},
   "outputs": [],
   "source": [
    "pos_pairs = []\n",
    "\n",
    "len_pairs = []\n",
    "\n",
    "for row in tqdm(cui_names.iloc, total=len(cui_names), desc=\"Generating positive pairs\"):\n",
    "    name_list = row['name']\n",
    "    cui = row['cui']\n",
    "    pairs = gen_pairs(name_list)\n",
    "    len_pairs.append(len(pairs))\n",
    "    if len(pairs)>50: # if >50 pairs, then trim to 50 pairs\n",
    "        pairs = random.sample(pairs, 50)\n",
    "    for cur_pair in pairs:\n",
    "        try:\n",
    "            line = cui + \"||\" + cur_pair[0] + \"||\" + cur_pair[1]\n",
    "        except:\n",
    "            print(cur_pair)\n",
    "        pos_pairs.append(line)"
   ]
  },
  {
   "cell_type": "markdown",
   "id": "b6c64408",
   "metadata": {},
   "source": [
    "## Save positive pairs to file in sapBERT format"
   ]
  },
  {
   "cell_type": "code",
   "execution_count": null,
   "id": "98d7cc60",
   "metadata": {},
   "outputs": [],
   "source": [
    "with open(sap_output_path, 'w') as f:\n",
    "    for line in pos_pairs:\n",
    "        f.write(line + \"\\n\")"
   ]
  },
  {
   "cell_type": "code",
   "execution_count": null,
   "id": "cde3557e",
   "metadata": {},
   "outputs": [],
   "source": []
  },
  {
   "cell_type": "code",
   "execution_count": null,
   "id": "5f452f1d",
   "metadata": {},
   "outputs": [],
   "source": []
  }
 ],
 "metadata": {
  "kernelspec": {
   "display_name": "pytorch",
   "language": "python",
   "name": "pytorch"
  },
  "language_info": {
   "codemirror_mode": {
    "name": "ipython",
    "version": 3
   },
   "file_extension": ".py",
   "mimetype": "text/x-python",
   "name": "python",
   "nbconvert_exporter": "python",
   "pygments_lexer": "ipython3",
   "version": "3.10.11"
  }
 },
 "nbformat": 4,
 "nbformat_minor": 5
}
